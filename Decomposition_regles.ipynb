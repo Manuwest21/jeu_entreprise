{
 "cells": [
  {
   "attachments": {},
   "cell_type": "markdown",
   "metadata": {},
   "source": [
    "### REGLES DU JEU\n"
   ]
  },
  {
   "attachments": {},
   "cell_type": "markdown",
   "metadata": {},
   "source": [
    "- 2 personnages.\n",
    "    - 1 jouer et un ennemi.\n",
    "    \n",
    "- 50 pv pour le jouer.\n",
    "- 50 pv pour l'ennemi.\n",
    "\n",
    "- le jouer possede 3 potions pv.\n",
    "    - chaque potion soigne le jouer de 15 a 50 pv.\n",
    "    - si le jouer utilise la potion il passe son prochain tour.\n",
    "    \n",
    "- l'attaque du jouer inflige de 5 a 10 pts de dégats.\n",
    "\n",
    "- l'attaque du pnj inflige entre 5 et 15 pts de dégats."
   ]
  },
  {
   "cell_type": "markdown",
   "metadata": {},
   "source": [
    "### DEROULE DE LA PARTIE"
   ]
  },
  {
   "attachments": {},
   "cell_type": "markdown",
   "metadata": {},
   "source": [
    "#### Lancement du script\n",
    "- demander si le jouer veut attaquer ou utiliser une potion..\n",
    "    - la demande sera repeté au debut de chaque tour du jouer.\n",
    "    - si attaque est choisie : infliger entre 5 et 10 pts de dégats au pnj.\n",
    "    - si potion est choisie : le jouer regagne entre 15 et 50 pv de façon aléatoire.\n",
    "        - on verifie que le jouer a assez de potions pour en utiliser une.\n",
    "            - si le joueur n'a pas assez de potions il reçoit une indication et se voit proposer le choix d'attaquer ou potion a nouveau.\n",
    "        - on enleve une potion de son inventaire.\n",
    "        - le joueur se voit passer son prochain tour si il a reussi a boire la potion..\n",
    "            - dans le cas ou le jouer passe son tour le pnj aura ses tours inchangé.\n",
    "    - une fois que le joueur a effectué une action les pv du joueur et du pnj s'affichent.\n",
    "\n",
    "\n",
    "    - aprés le tour du joueur on vérifie que le pnj est toujours vivant\n",
    "        - si le pnj est mort on déclare le joueur le gagnant du jeu et la partie prend fin.\n",
    "        - si les pv du pnj sont > 0 c'est qu'il est vivant et la partie continue\n",
    "\n",
    "    - Quand le tour du joueur est terminé le pnj attaque le joueur si le pnj est vivant.\n",
    "        - l'attaque du pnj inflige entre 5 et 15 pts de dégats au joueur.\n",
    "    - on vérifie les points de vie du joueur.\n",
    "        - si les pv du joueur sont <= 0 la partie se términe et le jouer est déclaré perdant.\n",
    "        - si les pv du joueur sont > 0 la partie continue.\n",
    "            - si le joueur a bu une potion durant son tour precedent alors il passe son tour.\n",
    "    \n",
    "\n",
    "    Le jeu se poursuit tant que les pv du joueur ou du \n",
    "    pnj > 0.\n",
    "    Le jeu se termine quand les pv du joueur ou du pnj sont <=0.\n",
    "\n",
    "    FIN DE PARTIE\n",
    "\n",
    "        - Chaque pv qui reste au joueur fait gagné 1 pts de score au joueur.\n",
    "        - Chaque potion de vie non utilisé fait gagné 50 pts de score au joueur.\n",
    "        - La table des scores s'affiche une fois la partie términé.\n",
    "\n",
    "\n",
    "\n"
   ]
  },
  {
   "cell_type": "code",
   "execution_count": null,
   "metadata": {},
   "outputs": [],
   "source": [
    "\n",
    "\n",
    "\n",
    "\n",
    "\n"
   ]
  }
 ],
 "metadata": {
  "kernelspec": {
   "display_name": "Python 3",
   "language": "python",
   "name": "python3"
  },
  "language_info": {
   "name": "python",
   "version": "3.10.6 (main, Nov 14 2022, 16:10:14) [GCC 11.3.0]"
  },
  "orig_nbformat": 4,
  "vscode": {
   "interpreter": {
    "hash": "916dbcbb3f70747c44a77c7bcd40155683ae19c65e1c03b4aa3499c5328201f1"
   }
  }
 },
 "nbformat": 4,
 "nbformat_minor": 2
}
