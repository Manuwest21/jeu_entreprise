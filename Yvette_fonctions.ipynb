{
 "cells": [
  {
   "cell_type": "code",
   "execution_count": 74,
   "metadata": {},
   "outputs": [],
   "source": [
    "dico_jeu = {\n",
    "     \"points_de_vie_joueur\" : 50,\n",
    "     \"points_de_vie_ennemi\" : 50,\n",
    "     \"potions\" : 3,\n",
    "     \"tour_joueur\" : 1,\n",
    "     \"tour_ennemi\" : 0,\n",
    "     \"score\" : 0\n",
    " }"
   ]
  },
  {
   "attachments": {},
   "cell_type": "markdown",
   "metadata": {},
   "source": [
    "  - si attaque est choisie : infliger entre 5 et 10 pts de dégats au pnj.\n",
    "- une fois que le joueur a effectué une action les pv du joueur et du pnj s'affichent.\n",
    "    - aprés le tour du joueur on vérifie que le pnj est toujours vivant"
   ]
  },
  {
   "cell_type": "code",
   "execution_count": 75,
   "metadata": {},
   "outputs": [
    {
     "name": "stdout",
     "output_type": "stream",
     "text": [
      "vous avez infligé 9 dégâts.\n",
      "il reste 41 points de vie à votre ennemi\n"
     ]
    }
   ],
   "source": [
    "import random as rd\n",
    "def attaque_joueur():\n",
    "    \"\"\"fonction qui permet au joueur d'attaquer l'ennemi\n",
    "\n",
    "    Returns:\n",
    "        il affiche le nombre de dégas subis et le nombre de points de vie restant à l'ennemi\n",
    "    \"\"\"\n",
    "    # fonction attaque qui enlève les points à l'ennemi de manière aléatoire\n",
    "    if dico_jeu[\"points_de_vie_joueur\"]>0:\n",
    "        degats_subis_ennemi = rd.randint(5,10)\n",
    "        dico_jeu[\"points_de_vie_ennemi\"]-= degats_subis_ennemi\n",
    "    print(f'vous avez infligé {degats_subis_ennemi} dégâts.') \n",
    "    print(f'il reste {dico_jeu[\"points_de_vie_ennemi\"]} points de vie à votre ennemi')\n",
    "    \n",
    "    \n",
    "attaque_joueur()"
   ]
  },
  {
   "attachments": {},
   "cell_type": "markdown",
   "metadata": {},
   "source": [
    "- aprés le tour du joueur on vérifie que le pnj est toujours vivant\n",
    "   - l'attaque du pnj inflige entre 5 et 15 pts de dégats au joueur.\n",
    "    - on vérifie les points de vie du joueur.\n",
    "        - si le pnj est mort on déclare le joueur le gagnant du jeu et la partie prend fin.\n",
    "        - si les pv du pnj sont > 0 c'est qu'il est vivant et la partie continue\n",
    "       "
   ]
  },
  {
   "cell_type": "code",
   "execution_count": 79,
   "metadata": {},
   "outputs": [
    {
     "name": "stdout",
     "output_type": "stream",
     "text": [
      "vous avez subi 8 dégâts.\n",
      "il vous reste 16 points de vie\n"
     ]
    }
   ],
   "source": [
    "def attaque_ennemi():\n",
    "    \"\"\"la fonction permet à l'ennemi d'attaquer le joueur\n",
    "    \n",
    "    Returns:\n",
    "        il affiche le nombre de dégas subis et le nombre de points de vie restants au joueur\n",
    "    \"\"\"\n",
    "    if dico_jeu[\"points_de_vie_ennemi\"]>0:\n",
    "        degats_subis_joueur = rd.randint(5,15)\n",
    "        dico_jeu[\"points_de_vie_joueur\"]-=degats_subis_joueur\n",
    "        print(f'vous avez subi {degats_subis_joueur} dégâts.') \n",
    "    print(f'il vous reste {dico_jeu[\"points_de_vie_joueur\"]} points de vie')\n",
    "    dico_jeu[\"tour_ennemi\"]-=1\n",
    "attaque_ennemi()    \n",
    "        "
   ]
  }
 ],
 "metadata": {
  "kernelspec": {
   "display_name": "base",
   "language": "python",
   "name": "python3"
  },
  "language_info": {
   "codemirror_mode": {
    "name": "ipython",
    "version": 3
   },
   "file_extension": ".py",
   "mimetype": "text/x-python",
   "name": "python",
   "nbconvert_exporter": "python",
   "pygments_lexer": "ipython3",
   "version": "3.10.8 (main, Nov 24 2022, 14:13:03) [GCC 11.2.0]"
  },
  "orig_nbformat": 4,
  "vscode": {
   "interpreter": {
    "hash": "d25f34363254810493f69e19f8fea8925d807b842d2c9e5aec83143d940402f1"
   }
  }
 },
 "nbformat": 4,
 "nbformat_minor": 2
}
