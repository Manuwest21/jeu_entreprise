{
 "cells": [
  {
   "cell_type": "code",
   "execution_count": 77,
   "metadata": {},
   "outputs": [],
   "source": [
    "dico_jeu = {\n",
    "     \"points_de_vie_joueur\" : 50,\n",
    "     \"points_de_vie_ennemi\" : 50,\n",
    "     \"potions\" : 3,\n",
    "     \"tour_joueur\" : 1,\n",
    "     \"tour_ennemi\" : 0,\n",
    "     \"score\" : 0,\n",
    "     \"arme\": [\"epee\",\"arc\",\"epee_deux_mains\"]\n",
    "\n",
    " }"
   ]
  },
  {
   "cell_type": "code",
   "execution_count": 59,
   "metadata": {},
   "outputs": [
    {
     "name": "stdout",
     "output_type": "stream",
     "text": [
      "vous avez infligé 10 dégâts.\n",
      "il reste 40 points de vie à votre ennemi\n"
     ]
    }
   ],
   "source": [
    "import random as rd\n",
    "def attaque_joueur():\n",
    "    \"\"\"fonction qui permet au joueur d'attaquer l'ennemi\n",
    "\n",
    "    Returns:\n",
    "        il affiche le nombre de dégas subis et le nombre de points de vie restant à l'ennemi\n",
    "    \"\"\"\n",
    "    # fonction attaque qui enlève les points à l'ennemi de manière aléatoire\n",
    "    if dico_jeu[\"points_de_vie_joueur\"]>0:\n",
    "        degats_subis_ennemi = rd.randint(5,10)\n",
    "        dico_jeu[\"points_de_vie_ennemi\"]-= degats_subis_ennemi\n",
    "    print(f'vous avez infligé {degats_subis_ennemi} dégâts.') \n",
    "    print(f'il reste {dico_jeu[\"points_de_vie_ennemi\"]} points de vie à votre ennemi')\n",
    "    \n",
    "    \n",
    "attaque_joueur()\n"
   ]
  },
  {
   "cell_type": "code",
   "execution_count": 60,
   "metadata": {},
   "outputs": [
    {
     "name": "stdout",
     "output_type": "stream",
     "text": [
      "vous avez subi 5 dégâts.\n",
      "il vous reste 45 points de vie\n"
     ]
    }
   ],
   "source": [
    "def attaque_ennemi():\n",
    "    \"\"\"la fonction permet à l'ennemi d'attaquer le joueur\n",
    "    \n",
    "    Returns:\n",
    "        il affiche le nombre de dégas subis et le nombre de points de vie restants au joueur\n",
    "    \"\"\"\n",
    "    if dico_jeu[\"points_de_vie_ennemi\"]>0:\n",
    "        degats_subis_joueur = rd.randint(5,15)\n",
    "        dico_jeu[\"points_de_vie_joueur\"]-=degats_subis_joueur\n",
    "        print(f'vous avez subi {degats_subis_joueur} dégâts.') \n",
    "    print(f'il vous reste {dico_jeu[\"points_de_vie_joueur\"]} points de vie')\n",
    "    dico_jeu[\"tour_ennemi\"]-=1\n",
    "attaque_ennemi()    \n",
    "        "
   ]
  },
  {
   "attachments": {},
   "cell_type": "markdown",
   "metadata": {},
   "source": [
    "Armes sup sur les monstres.\n",
    "    - epee\n",
    "        - change la valeur de l'attaque\n",
    "    - Arc \n",
    "        - si utilisé l'ennemi passe son prochain tour.\n",
    "    - Epee a deux mains\n",
    "        - dégats puissants mais joueur passe son prochain tour apres l'utilisation"
   ]
  },
  {
   "cell_type": "code",
   "execution_count": 83,
   "metadata": {},
   "outputs": [
    {
     "name": "stdout",
     "output_type": "stream",
     "text": [
      "l'ennemi passe son tour\n",
      "vous avez infligé 0 dégâts à l'ennemi\n"
     ]
    }
   ],
   "source": [
    "import random as rd\n",
    "\n",
    "def usage_arme(dico_jeu):\n",
    "    \"\"\"\n",
    "    permet au joeur de choisir une arme entre epée, arc et epée à deux mains\n",
    "\n",
    "    Args:prend en compte l'arme utilisée et affiche le nombre de dégpâts subis ou le joueur/ennemi passe son prochain tour\n",
    "    \"\"\"\n",
    "    degats_subis_ennemi=0\n",
    "    choix_arme=input(\"quelle arme veux-tu utiliser?\")\n",
    "    if choix_arme in dico_jeu[\"arme\"]:\n",
    "        if choix_arme == dico_jeu[\"arme\"][0]:\n",
    "            degats_subis_ennemi = rd.randint(15,20)\n",
    "        elif choix_arme == dico_jeu[\"arme\"][1]:\n",
    "            dico_jeu[\"tour_ennemi\"]+=2\n",
    "            print(\"l'ennemi passe son tour\")\n",
    "        elif choix_arme == dico_jeu[\"arme\"][2]:\n",
    "            degats_subis_ennemi = rd.randint(20,25)\n",
    "            dico_jeu[\"tour_joueur\"]+=2\n",
    "        dico_jeu[\"points_de_vie_ennemi\"] -= degats_subis_ennemi\n",
    "        print(f\"vous avez infligé {degats_subis_ennemi} dégâts à l'ennemi\")\n",
    "    else:\n",
    "        print(\"Arme non valide.\")\n",
    "usage_arme(dico_jeu)"
   ]
  },
  {
   "attachments": {},
   "cell_type": "markdown",
   "metadata": {},
   "source": []
  }
 ],
 "metadata": {
  "kernelspec": {
   "display_name": "base",
   "language": "python",
   "name": "python3"
  },
  "language_info": {
   "codemirror_mode": {
    "name": "ipython",
    "version": 3
   },
   "file_extension": ".py",
   "mimetype": "text/x-python",
   "name": "python",
   "nbconvert_exporter": "python",
   "pygments_lexer": "ipython3",
   "version": "3.10.8"
  },
  "orig_nbformat": 4,
  "vscode": {
   "interpreter": {
    "hash": "d25f34363254810493f69e19f8fea8925d807b842d2c9e5aec83143d940402f1"
   }
  }
 },
 "nbformat": 4,
 "nbformat_minor": 2
}
