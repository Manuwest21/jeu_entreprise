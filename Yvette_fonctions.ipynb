{
 "cells": [
  {
   "cell_type": "code",
   "execution_count": 4,
   "metadata": {},
   "outputs": [],
   "source": [
    "dico_jeu = {\n",
    "     \"points_de_vie_joueur\" : 50,\n",
    "     \"points_de_vie_ennemi\" : 50,\n",
    "     \"potions\" : 3,\n",
    "     \"tour_joueur\" : 1,\n",
    "     \"tour_ennemi\" : 0,\n",
    "     \"score\" : 0,\n",
    "     \"arme\": [\"epee\",\"arc\",\"eppee_a_deux_mains\"]\n",
    "\n",
    " }"
   ]
  },
  {
   "attachments": {},
   "cell_type": "markdown",
   "metadata": {},
   "source": [
    " # si attaque est choisie : infliger entre 5 et 10 pts de dégats au pnj.\n",
    " # une fois que le joueur a effectué une action les pv du joueur et du pnj s'affichent.\n",
    " # aprés le tour du joueur on vérifie que le pnj est toujours vivant"
   ]
  },
  {
   "cell_type": "code",
   "execution_count": 6,
   "metadata": {},
   "outputs": [
    {
     "name": "stdout",
     "output_type": "stream",
     "text": [
      "points de vie perdues:\n"
     ]
    }
   ],
   "source": [
    "import random as rd\n",
    "def attaque_joueur(points_de_vie_ennemi:dico_jeu) -> int:\n",
    "    # fonction attaque qui enlève les points à l'ennemi de manière aléatoire\n",
    "    if dico_jeu[\"points_de_vie_ennemi\"]>=0:\n",
    "        dico_jeu[\"points_de_vie_ennemi\"]-= rd.randint(5,10)\n",
    "print(\"points de vie perdues:\")"
   ]
  }
 ],
 "metadata": {
  "kernelspec": {
   "display_name": "base",
   "language": "python",
   "name": "python3"
  },
  "language_info": {
   "codemirror_mode": {
    "name": "ipython",
    "version": 3
   },
   "file_extension": ".py",
   "mimetype": "text/x-python",
   "name": "python",
   "nbconvert_exporter": "python",
   "pygments_lexer": "ipython3",
   "version": "3.10.8 (main, Nov 24 2022, 14:13:03) [GCC 11.2.0]"
  },
  "orig_nbformat": 4,
  "vscode": {
   "interpreter": {
    "hash": "d25f34363254810493f69e19f8fea8925d807b842d2c9e5aec83143d940402f1"
   }
  }
 },
 "nbformat": 4,
 "nbformat_minor": 2
}
