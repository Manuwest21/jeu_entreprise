{
 "cells": [
  {
   "cell_type": "code",
   "execution_count": null,
   "metadata": {},
   "outputs": [],
   "source": [
    "incorporer 2 joueurs"
   ]
  },
  {
   "cell_type": "code",
   "execution_count": 24,
   "metadata": {},
   "outputs": [
    {
     "name": "stdout",
     "output_type": "stream",
     "text": [
      "vous avez infligé 8 dégâts à l'ennemi\n",
      "il lui reste42 points de vie \n"
     ]
    },
    {
     "data": {
      "text/plain": [
       "True"
      ]
     },
     "execution_count": 24,
     "metadata": {},
     "output_type": "execute_result"
    }
   ],
   "source": [
    "dico_jeu = {\n",
    "     \"points_de_vie_joueur_1\" : 50,\n",
    "     \"points_de_vie_joueur_2\":50,\n",
    "     \"points_de_vie_ennemi\" : 50,\n",
    "     \"potions_j1\" : 3,\n",
    "     \"potions_j2\":3,\n",
    "     \"tour_joueur_1\" : 0,\n",
    "     \"tour_joueur_2\":0,\n",
    "     \"tour_ennemi\" : 0,\n",
    "     \"score_J1\" : 0,\n",
    "     \"score_J2\" :0,\n",
    "     \n",
    "    #  \"J1/J2\": \"tour_joueur_1_ou_2\"\n",
    "}\n",
    "\n",
    "tour=\"joueur_2\"\n",
    "\n",
    "def attaque_joueur(dico_jeu,tour):\n",
    "    \"\"\"\n",
    "    args: ne prend pas d'arguments\n",
    "    fonction qui permet au joueur d'attaquer l'ennemiduo\n",
    "    \n",
    "    il affiche un nombre aléatoire de dégas subis entre 5 et 10 et le nombre de points de vie restant à l'ennemi\n",
    "    \"\"\"\n",
    "    # fonction attaque qui enlève les points à l'ennemi de manière aléatoire\n",
    "    # if dico_jeu[\"points_de_vie_joueur\"]>0:\n",
    "    if tour==\"joueur_1\":\n",
    "        \n",
    "        dico_jeu[\"tour_joueur_1\"]+=1\n",
    "        degats_subis_ennemi = rd.randint(5,10)\n",
    "        dico_jeu[\"points_de_vie_ennemi\"]-= degats_subis_ennemi\n",
    "        print(f\"vous avez infligé {degats_subis_ennemi} dégâts à l'ennemi\") \n",
    "        print(f'                                          points de vie de ennemi >>> {dico_jeu[\"points_de_vie_ennemi\"]} ')\n",
    "    \n",
    "    elif tour==\"joueur_2\":\n",
    "        \n",
    "        dico_jeu[\"tour_joueur_2\"]+=1\n",
    "        degats_subis_ennemi = rd.randint(5,10)\n",
    "        dico_jeu[\"points_de_vie_ennemi\"]-= degats_subis_ennemi\n",
    "        print(f\"vous avez infligé {degats_subis_ennemi} dégâts à l'ennemi\") \n",
    "        print(f'il lui reste{dico_jeu[\"points_de_vie_ennemi\"]} points de vie ')\n",
    "    \n",
    "    return True\n",
    "        \n",
    "attaque_joueur(dico_jeu, tour)\n",
    "    "
   ]
  },
  {
   "cell_type": "code",
   "execution_count": null,
   "metadata": {},
   "outputs": [],
   "source": [
    "def cbien_jrs():\n",
    "    \n",
    "    nombre=3\n",
    "    while nombre !=\"1\" or nombre !=\"2\":\n",
    "        nombre=input(\"vous êtes 1 ou 2 à vouloir jouer??  :\")\n",
    "        \n",
    "    if nombre==1:\n",
    "        def partie_1_joueur():\n",
    "            \n",
    "        def partie_2_joueurs():\n",
    "            \n",
    "        \n",
    "    \n",
    "    "
   ]
  },
  {
   "cell_type": "code",
   "execution_count": 23,
   "metadata": {},
   "outputs": [
    {
     "ename": "ModuleNotFoundError",
     "evalue": "No module named 'PIL'",
     "output_type": "error",
     "traceback": [
      "\u001b[0;31m---------------------------------------------------------------------------\u001b[0m",
      "\u001b[0;31mModuleNotFoundError\u001b[0m                       Traceback (most recent call last)",
      "Cell \u001b[0;32mIn[23], line 1\u001b[0m\n\u001b[0;32m----> 1\u001b[0m \u001b[39mimport\u001b[39;00m \u001b[39mmatplotlib\u001b[39;00m\u001b[39m.\u001b[39;00m\u001b[39mpyplot\u001b[39;00m \u001b[39mas\u001b[39;00m \u001b[39mplt\u001b[39;00m\n",
      "File \u001b[0;32m~/.local/lib/python3.10/site-packages/matplotlib/__init__.py:113\u001b[0m\n\u001b[1;32m    109\u001b[0m \u001b[39mfrom\u001b[39;00m \u001b[39mpackaging\u001b[39;00m\u001b[39m.\u001b[39;00m\u001b[39mversion\u001b[39;00m \u001b[39mimport\u001b[39;00m parse \u001b[39mas\u001b[39;00m parse_version\n\u001b[1;32m    111\u001b[0m \u001b[39m# cbook must import matplotlib only within function\u001b[39;00m\n\u001b[1;32m    112\u001b[0m \u001b[39m# definitions, so it is safe to import from it here.\u001b[39;00m\n\u001b[0;32m--> 113\u001b[0m \u001b[39mfrom\u001b[39;00m \u001b[39m.\u001b[39;00m \u001b[39mimport\u001b[39;00m _api, _version, cbook, _docstring, rcsetup\n\u001b[1;32m    114\u001b[0m \u001b[39mfrom\u001b[39;00m \u001b[39mmatplotlib\u001b[39;00m\u001b[39m.\u001b[39;00m\u001b[39mcbook\u001b[39;00m \u001b[39mimport\u001b[39;00m sanitize_sequence\n\u001b[1;32m    115\u001b[0m \u001b[39mfrom\u001b[39;00m \u001b[39mmatplotlib\u001b[39;00m\u001b[39m.\u001b[39;00m\u001b[39m_api\u001b[39;00m \u001b[39mimport\u001b[39;00m MatplotlibDeprecationWarning\n",
      "File \u001b[0;32m~/.local/lib/python3.10/site-packages/matplotlib/rcsetup.py:27\u001b[0m\n\u001b[1;32m     25\u001b[0m \u001b[39mfrom\u001b[39;00m \u001b[39mmatplotlib\u001b[39;00m \u001b[39mimport\u001b[39;00m _api, cbook\n\u001b[1;32m     26\u001b[0m \u001b[39mfrom\u001b[39;00m \u001b[39mmatplotlib\u001b[39;00m\u001b[39m.\u001b[39;00m\u001b[39mcbook\u001b[39;00m \u001b[39mimport\u001b[39;00m ls_mapper\n\u001b[0;32m---> 27\u001b[0m \u001b[39mfrom\u001b[39;00m \u001b[39mmatplotlib\u001b[39;00m\u001b[39m.\u001b[39;00m\u001b[39mcolors\u001b[39;00m \u001b[39mimport\u001b[39;00m Colormap, is_color_like\n\u001b[1;32m     28\u001b[0m \u001b[39mfrom\u001b[39;00m \u001b[39mmatplotlib\u001b[39;00m\u001b[39m.\u001b[39;00m\u001b[39m_fontconfig_pattern\u001b[39;00m \u001b[39mimport\u001b[39;00m parse_fontconfig_pattern\n\u001b[1;32m     29\u001b[0m \u001b[39mfrom\u001b[39;00m \u001b[39mmatplotlib\u001b[39;00m\u001b[39m.\u001b[39;00m\u001b[39m_enums\u001b[39;00m \u001b[39mimport\u001b[39;00m JoinStyle, CapStyle\n",
      "File \u001b[0;32m~/.local/lib/python3.10/site-packages/matplotlib/colors.py:51\u001b[0m\n\u001b[1;32m     49\u001b[0m \u001b[39mfrom\u001b[39;00m \u001b[39mnumbers\u001b[39;00m \u001b[39mimport\u001b[39;00m Number\n\u001b[1;32m     50\u001b[0m \u001b[39mimport\u001b[39;00m \u001b[39mre\u001b[39;00m\n\u001b[0;32m---> 51\u001b[0m \u001b[39mfrom\u001b[39;00m \u001b[39mPIL\u001b[39;00m \u001b[39mimport\u001b[39;00m Image\n\u001b[1;32m     52\u001b[0m \u001b[39mfrom\u001b[39;00m \u001b[39mPIL\u001b[39;00m\u001b[39m.\u001b[39;00m\u001b[39mPngImagePlugin\u001b[39;00m \u001b[39mimport\u001b[39;00m PngInfo\n\u001b[1;32m     54\u001b[0m \u001b[39mimport\u001b[39;00m \u001b[39mmatplotlib\u001b[39;00m \u001b[39mas\u001b[39;00m \u001b[39mmpl\u001b[39;00m\n",
      "\u001b[0;31mModuleNotFoundError\u001b[0m: No module named 'PIL'"
     ]
    }
   ],
   "source": [
    "import matplotlib.pyplot as plt"
   ]
  },
  {
   "cell_type": "code",
   "execution_count": null,
   "metadata": {},
   "outputs": [],
   "source": []
  },
  {
   "cell_type": "code",
   "execution_count": null,
   "metadata": {},
   "outputs": [],
   "source": []
  },
  {
   "cell_type": "code",
   "execution_count": null,
   "metadata": {},
   "outputs": [],
   "source": []
  },
  {
   "cell_type": "code",
   "execution_count": null,
   "metadata": {},
   "outputs": [],
   "source": []
  },
  {
   "cell_type": "code",
   "execution_count": 11,
   "metadata": {},
   "outputs": [
    {
     "name": "stdout",
     "output_type": "stream",
     "text": [
      "2\n"
     ]
    }
   ],
   "source": [
    "dico_jeu = {\n",
    "     \"points_de_vie_joueur\" : 50,\n",
    "     \"points_de_vie_ennemi\" : 50,\n",
    "     \"potions\" : 3,\n",
    "     \"tour_jouer\" : 1,\n",
    "     \"tour_ennemi\" : 0,\n",
    "     \"score\" : 0\n",
    " }\n",
    "\n",
    "dico_jeu[\"potions\"]-=1\n",
    "print (dico_jeu[\"potions\"])"
   ]
  },
  {
   "cell_type": "code",
   "execution_count": 8,
   "metadata": {},
   "outputs": [
    {
     "name": "stdout",
     "output_type": "stream",
     "text": [
      "96\n"
     ]
    }
   ],
   "source": [
    "import random as rd\n",
    "\n",
    "points_de_vie_joueur= 50\n",
    "points_de_vie_joueur+=rd.randint(15,50)\n",
    "print(points_de_vie_joueur)"
   ]
  },
  {
   "cell_type": "code",
   "execution_count": 20,
   "metadata": {},
   "outputs": [
    {
     "data": {
      "text/plain": [
       "'attaquer'"
      ]
     },
     "execution_count": 20,
     "metadata": {},
     "output_type": "execute_result"
    }
   ],
   "source": [
    "\n",
    "dico_jeu = {\n",
    "     \"points_de_vie_joueur\" : 50,\n",
    "     \"points_de_vie_ennemi\" : 50,\n",
    "     \"potions\" : 3,\n",
    "     \"tour_joueur\" : 1,\n",
    "     \"tour_ennemi\" : 0,\n",
    "     \"score\" : 0\n",
    " }\n",
    "\n",
    "\n",
    "def choix_joueur():    #choix d'attaquer ou  utiliser potion.\n",
    "    \"\"\"\n",
    "    args: ne prend pas d'argument\n",
    "    demande au joueur s'il souhaite attaquer ou prendre la potion\n",
    "    s'il ne posséde plus de potion, le choix n'est pas demandé\n",
    "    \"\"\"\n",
    "    dico_jeu[\"tour_joueur\"]-=1\n",
    "    choix=0   \n",
    "    if dico_jeu[\"potions\"]<1:\n",
    "        choix==\"attaquer\"\n",
    "    while choix not in [\"potion\", \"attaquer\"]:\n",
    "        choix=input(\"quel choix la potion ou attaquer\")\n",
    "    if choix ==\"attaquer\":\n",
    "        def (attaque)\n",
    "    elif choix==\"potion\":\n",
    "        def usage_potions()\n",
    "    \n",
    "    \n",
    "\n",
    "choix_joueur()\n",
    "    "
   ]
  },
  {
   "cell_type": "code",
   "execution_count": 19,
   "metadata": {},
   "outputs": [],
   "source": [
    "def usage_potions():\n",
    "    \"\"\"\n",
    "    args: ne prend pas d'arguments\n",
    "    enlève 1 potion au nombre de potion du joueur\n",
    "    génére un nombre aléatoire entre 15 et 50\n",
    "    ce nombre sera ajouté aux points de vie du joueur\n",
    "    affiche le nombre de points de vie gagnés\n",
    "    s'il prend la potion fait passer le prochain tour au joueur\n",
    "    \"\"\"\n",
    "    \n",
    "    dico_jeu[\"potions\"]-=1\n",
    "    dico_jeu[\"tour_joueur\"]-=1\n",
    "    pts_potion=rd.randint(15,50)\n",
    "    dico_jeu[\"points_de_vie_joueurs\"]+=pts_potion\n",
    "    print(f\"vous avez gagné {pts_potion} de vie!\")\n",
    "    \n",
    "        "
   ]
  },
  {
   "cell_type": "code",
   "execution_count": null,
   "metadata": {},
   "outputs": [],
   "source": []
  },
  {
   "cell_type": "code",
   "execution_count": null,
   "metadata": {},
   "outputs": [],
   "source": []
  }
 ],
 "metadata": {
  "kernelspec": {
   "display_name": "base",
   "language": "python",
   "name": "python3"
  },
  "language_info": {
   "codemirror_mode": {
    "name": "ipython",
    "version": 3
   },
   "file_extension": ".py",
   "mimetype": "text/x-python",
   "name": "python",
   "nbconvert_exporter": "python",
   "pygments_lexer": "ipython3",
   "version": "3.10.8"
  },
  "orig_nbformat": 4,
  "vscode": {
   "interpreter": {
    "hash": "d25f34363254810493f69e19f8fea8925d807b842d2c9e5aec83143d940402f1"
   }
  }
 },
 "nbformat": 4,
 "nbformat_minor": 2
}
