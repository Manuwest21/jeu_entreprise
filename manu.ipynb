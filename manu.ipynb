{
 "cells": [
  {
   "cell_type": "code",
   "execution_count": 11,
   "metadata": {},
   "outputs": [
    {
     "name": "stdout",
     "output_type": "stream",
     "text": [
      "2\n"
     ]
    }
   ],
   "source": [
    "dico_jeu = {\n",
    "     \"points_de_vie_joueur\" : 50,\n",
    "     \"points_de_vie_ennemi\" : 50,\n",
    "     \"potions\" : 3,\n",
    "     \"tour_jouer\" : 1,\n",
    "     \"tour_ennemi\" : 0,\n",
    "     \"score\" : 0\n",
    " }\n",
    "\n",
    "dico_jeu[\"potions\"]-=1\n",
    "print (dico_jeu[\"potions\"])"
   ]
  },
  {
   "cell_type": "code",
   "execution_count": 8,
   "metadata": {},
   "outputs": [
    {
     "name": "stdout",
     "output_type": "stream",
     "text": [
      "96\n"
     ]
    }
   ],
   "source": [
    "import random as rd\n",
    "\n",
    "points_de_vie_joueur= 50\n",
    "points_de_vie_joueur+=rd.randint(15,50)\n",
    "print(points_de_vie_joueur)"
   ]
  },
  {
   "cell_type": "code",
   "execution_count": 16,
   "metadata": {},
   "outputs": [
    {
     "data": {
      "text/plain": [
       "'potion'"
      ]
     },
     "execution_count": 16,
     "metadata": {},
     "output_type": "execute_result"
    }
   ],
   "source": [
    "\n",
    "dico_jeu = {\n",
    "     \"points_de_vie_joueur\" : 50,\n",
    "     \"points_de_vie_ennemi\" : 50,\n",
    "     \"potions\" : 3,\n",
    "     \"tour_joueur\" : 1,\n",
    "     \"tour_ennemi\" : 0,\n",
    "     \"score\" : 0\n",
    " }\n",
    "\n",
    "\n",
    "def choix_joueur():    #choix d'attaquer ou  utiliser potion.\n",
    "    \"\"\"\n",
    "    args: ne prend pas d'argument\n",
    "    demande au joueur s'il souhaite attaquer ou prendre la potion\n",
    "    s'il ne posséde plus de potion, le choix n'est pas demandé\n",
    "    \"\"\"\n",
    "    \n",
    "    choix=0   \n",
    "    if dico_jeu[\"potions\"]<1:\n",
    "        choix==\"attaquer\"\n",
    "    while choix not in [\"potion\", \"attaquer\"]:\n",
    "        choix=input(\"quel choix la potion ou attaquer\")\n",
    "    # if choix ==\"attaquer\":\n",
    "    #     def (attaque)\n",
    "    # elif choix==\"potion\":\n",
    "    #     def (potion)\n",
    "    dico_jeu[\"tour_joueur\"]-=1\n",
    "    return choix\n",
    "\n",
    "choix_joueur()\n",
    "    "
   ]
  },
  {
   "cell_type": "code",
   "execution_count": 17,
   "metadata": {},
   "outputs": [],
   "source": [
    "def usage_potions():\n",
    "    \"\"\"\n",
    "    args: ne prend pas d'arguments\n",
    "    enlève 1 potion au nombre de potion du joueur\n",
    "    génére un nombre aléatoire entre 15 et 50\n",
    "    ce nombre sera ajouté aux points de vie du joueur\n",
    "    affiche le nombre de points de vie gagnés\n",
    "    s'il prend la potion fait passer le prochain tour au joueur\n",
    "    \"\"\"\n",
    "    dico_jeu[\"potions\"]-=1\n",
    "    tour_joueur-=1\n",
    "    pts_potion=rd.randint(15,50)\n",
    "    dico_jeu[\"points_de_vie_joueurs\"]+=pts_potion\n",
    "    print(f\"vous avez gagné {pts_potion} de vie!\")\n",
    "    \n",
    "        "
   ]
  },
  {
   "cell_type": "code",
   "execution_count": null,
   "metadata": {},
   "outputs": [],
   "source": [
    "def usage_potions():\n",
    "    if potions >= 1 (verification nombre potions):\n",
    "        potions -= 1\n",
    "    else:\n",
    "        indication \"vous n'avez plus de potions\"\n",
    "        revenir a choix joueur."
   ]
  },
  {
   "cell_type": "code",
   "execution_count": null,
   "metadata": {},
   "outputs": [],
   "source": []
  }
 ],
 "metadata": {
  "kernelspec": {
   "display_name": "base",
   "language": "python",
   "name": "python3"
  },
  "language_info": {
   "codemirror_mode": {
    "name": "ipython",
    "version": 3
   },
   "file_extension": ".py",
   "mimetype": "text/x-python",
   "name": "python",
   "nbconvert_exporter": "python",
   "pygments_lexer": "ipython3",
   "version": "3.10.8 (main, Nov 24 2022, 14:13:03) [GCC 11.2.0]"
  },
  "orig_nbformat": 4,
  "vscode": {
   "interpreter": {
    "hash": "d25f34363254810493f69e19f8fea8925d807b842d2c9e5aec83143d940402f1"
   }
  }
 },
 "nbformat": 4,
 "nbformat_minor": 2
}
