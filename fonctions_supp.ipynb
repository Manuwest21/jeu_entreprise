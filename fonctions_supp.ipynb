{
 "cells": [
  {
   "cell_type": "code",
   "execution_count": null,
   "metadata": {},
   "outputs": [],
   "source": [
    "Possibilité de nommer son personnage.\n",
    "        \n",
    "Effets critiques des actions.\n",
    "    - attaques\n",
    "    - potions\n"
   ]
  },
  {
   "cell_type": "code",
   "execution_count": 7,
   "metadata": {},
   "outputs": [
    {
     "name": "stdout",
     "output_type": "stream",
     "text": [
      "Bienvenu(e) dans THE GAME Manu Le Bestial\n"
     ]
    }
   ],
   "source": [
    "\n",
    "dico_jeu = {\n",
    "     \"points_de_vie_joueur\" : 50,\n",
    "     \"points_de_vie_ennemi\" : 50,\n",
    "     \"potions\" : 3,\n",
    "     \"tour_joueur\" : 1,\n",
    "     \"tour_ennemi\" : 0,\n",
    "     \"score\" : 0,\n",
    "     \"Nom_personnage\" : \"\"\n",
    " }\n",
    "\n",
    "\n",
    "def choix_de_nom():\n",
    "    nom = input(\"Entrez le nom de votre personnage\")\n",
    "    dico_jeu[\"Nom_personnage\"]= nom\n",
    "    print(f\"Bienvenu(e) dans THE GAME {nom}\")\n",
    "choix_de_nom()"
   ]
  },
  {
   "cell_type": "code",
   "execution_count": 48,
   "metadata": {},
   "outputs": [
    {
     "name": "stdout",
     "output_type": "stream",
     "text": [
      "Bravo Manu Le Bestial ! Vous infligez une blessure critique a votre ennemi !\n",
      "10\n",
      "Oh non ! Le monstre vous inflige une blessure critique ! Que va faire Manu Le Bestial\n",
      "7.5\n"
     ]
    }
   ],
   "source": [
    "# Effets critiques des actions.\n",
    "#     - attaques\n",
    "#     - potions\n",
    "import random as rd\n",
    "\n",
    "\n",
    "\n",
    "def effets_critiques_joueur():\n",
    "    crit=rd.randint(0,100)\n",
    "    degats_subis_ennemi = 5\n",
    "    if crit >= 70:\n",
    "        degats_subis_ennemi = degats_subis_ennemi*2\n",
    "        print(f'Bravo {dico_jeu[\"Nom_personnage\"]} ! Vous infligez une blessure critique a votre ennemi !')\n",
    "        print(degats_subis_ennemi)\n",
    "    else:\n",
    "        pass\n",
    "        \n",
    "effets_critiques_joueur()\n",
    "def effets_critiques_ennemi():\n",
    "    crit_e=rd.randint(0,100)\n",
    "    degats_subis_joueur = 5\n",
    "    if crit_e >= 85:\n",
    "        degats_subis_joueur = degats_subis_joueur*1.5\n",
    "        print(f'Oh non ! Le monstre vous inflige une blessure critique ! Que va faire {dico_jeu[\"Nom_personnage\"]} ?')\n",
    "        print(degats_subis_joueur)\n",
    "    else:\n",
    "        pass\n",
    "effets_critiques_ennemi()    \n",
    "    \n"
   ]
  }
 ],
 "metadata": {
  "kernelspec": {
   "display_name": "Python 3",
   "language": "python",
   "name": "python3"
  },
  "language_info": {
   "codemirror_mode": {
    "name": "ipython",
    "version": 3
   },
   "file_extension": ".py",
   "mimetype": "text/x-python",
   "name": "python",
   "nbconvert_exporter": "python",
   "pygments_lexer": "ipython3",
   "version": "3.10.6"
  },
  "orig_nbformat": 4,
  "vscode": {
   "interpreter": {
    "hash": "916dbcbb3f70747c44a77c7bcd40155683ae19c65e1c03b4aa3499c5328201f1"
   }
  }
 },
 "nbformat": 4,
 "nbformat_minor": 2
}
