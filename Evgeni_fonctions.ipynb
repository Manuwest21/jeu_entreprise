{
 "cells": [
  {
   "cell_type": "code",
   "execution_count": 75,
   "metadata": {},
   "outputs": [],
   "source": [
    "dico_jeu = {\n",
    "     \"points_de_vie_joueur\" : 50,\n",
    "     \"points_de_vie_ennemi\" : 50,\n",
    "     \"potions\" : 3,\n",
    "     \"tour_joueur\" : 1,\n",
    "     \"tour_ennemi\" : 0,\n",
    "     \"score\" : 0\n",
    " }"
   ]
  },
  {
   "cell_type": "code",
   "execution_count": null,
   "metadata": {},
   "outputs": [],
   "source": [
    "def resultat_partie():\n",
    "    if pv jouer <= 0:\n",
    "        joueur décalré perdant.\n",
    "        partie prend fin.\n",
    "    elif pv ennemi <= 0:\n",
    "        joueur déclaré gagnant.\n",
    "        partie prend fin.\n",
    "    \n",
    "def fin_de_partie():\n",
    "    dico_jeu[\"score\"] = dico_jeu[\"points_de_vie_joueur\"] + dico_jeu[\"potions\"]*50"
   ]
  },
  {
   "cell_type": "code",
   "execution_count": 18,
   "metadata": {},
   "outputs": [
    {
     "name": "stdout",
     "output_type": "stream",
     "text": [
      "Le combat continue ! Choisisez votre action :\n"
     ]
    }
   ],
   "source": [
    "def win_lose():\n",
    "    \"\"\"Fonction qui verifie les conditions de victoire du Joueur et de l'Ennemie.\n",
    "    \"\"\"\n",
    "    if dico_jeu[\"points_de_vie_ennemi\"] <= 0:\n",
    "        print(\"Vous avez reussi a battre le monstre ! Bien joué !\")\n",
    "        print(\"Merci d'avoir joué !\")\n",
    "    elif dico_jeu[\"points_de_vie_joueur\"] <= 0:\n",
    "        print(\"Le monstre vous a battu ! Il n'y a donc plus d'éspoir...\")\n",
    "    else:\n",
    "        print(\"Le combat continue ! Choisisez votre action :\")\n",
    "resultat_partie()\n",
    "        \n",
    "\n"
   ]
  },
  {
   "cell_type": "code",
   "execution_count": 76,
   "metadata": {},
   "outputs": [
    {
     "name": "stdout",
     "output_type": "stream",
     "text": [
      "Félicitations ! Vous avez remporté la partie !\n",
      "Votre score pour cette partie est de 200 points\n",
      "Dans cette partie vous avez su garder 3 potions pour 150 points !\n",
      "Vous avez su gagner avec 50 points de vie restant pour 50 points !\n"
     ]
    }
   ],
   "source": [
    "def fin_de_partie():\n",
    "        if dico_jeu[\"points_de_vie_ennemi\"] <= 0:\n",
    "            dico_jeu[\"score\"] = dico_jeu[\"points_de_vie_joueur\"] + dico_jeu[\"potions\"]*50\n",
    "            print(\"Félicitations ! Vous avez remporté la partie !\")\n",
    "            print(f'Votre score pour cette partie est de {dico_jeu[\"score\"]} points')\n",
    "            print(f'Dans cette partie vous avez su garder {dico_jeu[\"potions\"]} potions pour {dico_jeu[\"potions\"]*50} points !') \n",
    "            print(f'Vous avez su gagner avec {dico_jeu[\"points_de_vie_joueur\"]} points de vie restant pour {dico_jeu[\"points_de_vie_joueur\"]} points !')\n",
    "        elif dico_jeu[\"points_de_vie_joueur\"] <=0:\n",
    "            dico_jeu[\"score\"] = 0\n",
    "            print(\"Vous avez pas su l'emporter. Courage, vous ferez mieux la prochaine fois !\")\n",
    "            print(f'Votre score pour cette partie est de {dico_jeu[\"score\"]} points...')\n",
    "        else :\n",
    "            pass\n",
    "        with open(\"score.txt\", \"w\") as fichier:\n",
    "            fichier.write(f' Score de la partie : {dico_jeu[\"score\"]} points !')\n",
    "fin_de_partie()\n",
    "    "
   ]
  }
 ],
 "metadata": {
  "kernelspec": {
   "display_name": "Python 3",
   "language": "python",
   "name": "python3"
  },
  "language_info": {
   "codemirror_mode": {
    "name": "ipython",
    "version": 3
   },
   "file_extension": ".py",
   "mimetype": "text/x-python",
   "name": "python",
   "nbconvert_exporter": "python",
   "pygments_lexer": "ipython3",
   "version": "3.10.6 (main, Nov 14 2022, 16:10:14) [GCC 11.3.0]"
  },
  "orig_nbformat": 4,
  "vscode": {
   "interpreter": {
    "hash": "916dbcbb3f70747c44a77c7bcd40155683ae19c65e1c03b4aa3499c5328201f1"
   }
  }
 },
 "nbformat": 4,
 "nbformat_minor": 2
}
